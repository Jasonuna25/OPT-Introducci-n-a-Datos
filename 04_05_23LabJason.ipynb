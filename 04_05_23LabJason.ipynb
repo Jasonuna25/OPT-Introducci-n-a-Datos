{
  "nbformat": 4,
  "nbformat_minor": 0,
  "metadata": {
    "colab": {
      "provenance": [],
      "authorship_tag": "ABX9TyNJ6SIpYk49C8+THDfaRxcK",
      "include_colab_link": true
    },
    "kernelspec": {
      "name": "python3",
      "display_name": "Python 3"
    },
    "language_info": {
      "name": "python"
    }
  },
  "cells": [
    {
      "cell_type": "markdown",
      "metadata": {
        "id": "view-in-github",
        "colab_type": "text"
      },
      "source": [
        "<a href=\"https://colab.research.google.com/github/Jasonuna25/OPT-Introducci-n-a-Datos/blob/main/04_05_23LabJason.ipynb\" target=\"_parent\"><img src=\"https://colab.research.google.com/assets/colab-badge.svg\" alt=\"Open In Colab\"/></a>"
      ]
    },
    {
      "cell_type": "code",
      "source": [
        "import pandas as pd\n",
        "import matplotlib.pyplot as plt\n",
        "df=pd.read_csv('CSVInvestigation.csv')\n",
        "data=pd.DataFrame(df)\n",
        "data=data.astype({\"Value\": float})\n",
        "data Filtered2018=data.loc[(data['Year'])]\n",
        "\n",
        "\n",
        "#porcentajes de homicidio intencional por CR por año\n",
        "print()\n",
        "print()\n",
        "print('F-Porcentajes de homicidio intencional por CR por año')\n",
        "dataFilteredCRHomicides=data.loc[(data['Country'] ==\"Costa Rica\")&\n",
        "                                 (data['Series'] ==\"Intentional homicide rates per 100,000\")]\n",
        "print(dataFilteredCRHomicides.sort_values(by=['Year'], ascending=True)[['Country','Year','Value']])\n",
        "\n",
        "\n",
        "#Obtener año mas conflictivo en general\n",
        "print()\n",
        "print()\n",
        "print(\"G.Obtener el año más conflictivo en general.\")\n",
        "registro_annos = df[\"Year\"]\n",
        "anno_conflictivo = registro_annos.mode()\n",
        "print (anno_conflictivo)\n",
        "\n",
        "\n",
        "#Género mas afectado en crímenes en promedio en el año 2018\n",
        "print()\n",
        "print()\n",
        "print('H-Genero mas afectado en crimenes en promedio en el año 2018')\n",
        "dataFilteredByGender=dataFiltered2018.loc[((\n",
        "    dataFiltered2018['Series'] ==\"Percentage of male and female intentional homicide victims, Male\")\n",
        "    |(dataFiltered2018['Series']==\"Percentage of male and female intentional homicide victims, Female\"))\n",
        "    ].groupby('Series')['Value']\n",
        "print(dataFilteredByGender.mean())"
      ],
      "metadata": {
        "id": "50nz5ZplcauU"
      },
      "execution_count": null,
      "outputs": []
    },
    {
      "cell_type": "code",
      "source": [],
      "metadata": {
        "id": "yaxlFvE7iT9x"
      },
      "execution_count": null,
      "outputs": []
    },
    {
      "cell_type": "code",
      "source": [
        "print(\"Grafico Pastel-Porcentaje de homicidios por Género (Hombre-Mujer)\")\n",
        "dataFilteredByGender.mean().plot.pie(y='Serie',figsize=(8,8),autopct='%1.0f%%')\n",
        "plt.show()"
      ],
      "metadata": {
        "id": "FoPJh3b2iMP6"
      },
      "execution_count": null,
      "outputs": []
    },
    {
      "cell_type": "code",
      "source": [
        "print(\"Grafico de histograma de la tasa de homicidio de CR, Panamá, Nicaragua en el año\")\n",
        "FilteredCR=data.loc[(data['Country'] ==\"Costa Rica\") & (data['Year']==2018)]\n",
        "data.plot.barh(x=\"Country\", y=\"Value\")"
      ],
      "metadata": {
        "colab": {
          "base_uri": "https://localhost:8080/",
          "height": 470
        },
        "id": "pZdZuGjckDWj",
        "outputId": "acf1b511-a293-4500-bf00-3d53d299c290"
      },
      "execution_count": null,
      "outputs": [
        {
          "output_type": "stream",
          "name": "stdout",
          "text": [
            "Grafico de histograma de la tasa de homicidio de CR, Panamá, Nicaragua en el año\n"
          ]
        },
        {
          "output_type": "execute_result",
          "data": {
            "text/plain": [
              "<Axes: ylabel='Country'>"
            ]
          },
          "metadata": {},
          "execution_count": 4
        },
        {
          "output_type": "display_data",
          "data": {
            "text/plain": [
              "<Figure size 640x480 with 1 Axes>"
            ],
            "image/png": "[encoded data removed]"
          },
          "metadata": {}
        }
      ]
    }
  ]
}