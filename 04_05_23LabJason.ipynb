{
  "nbformat": 4,
  "nbformat_minor": 0,
  "metadata": {
    "colab": {
      "provenance": [],
      "authorship_tag": "ABX9TyMtoeG+GJfGMKjyCGlc5itp",
      "include_colab_link": true
    },
    "kernelspec": {
      "name": "python3",
      "display_name": "Python 3"
    },
    "language_info": {
      "name": "python"
    }
  },
  "cells": [
    {
      "cell_type": "markdown",
      "metadata": {
        "id": "view-in-github",
        "colab_type": "text"
      },
      "source": [
        "<a href=\"https://colab.research.google.com/github/Jasonuna25/OPT-Introducci-n-a-Datos/blob/main/04_05_23LabJason.ipynb\" target=\"_parent\"><img src=\"https://colab.research.google.com/assets/colab-badge.svg\" alt=\"Open In Colab\"/></a>"
      ]
    },
    {
      "cell_type": "code",
      "source": [
        "import pandas as pd\n",
        "import matplotlib.pyplot as plt\n",
        "df=pd.read_csv('CSVInvestigation.csv')\n",
        "data=pd.DataFrame(df)\n",
        "data=data.astype({\"Value\": float})\n",
        "data Filtered2018=data.loc[(data['Year'])]\n",
        "\n",
        "\n",
        "#porcentajes de homicidio intencional por CR por año\n",
        "print()\n",
        "print()\n",
        "print('F-Porcentajes de homicidio intencional por CR por año')\n",
        "dataFilteredCRHomicides=data.loc[(data['Country'] ==\"Costa Rica\")&\n",
        "                                 (data['Series'] ==\"Intentional homicide rates per 100,000\")]\n",
        "print(dataFilteredCRHomicides.sort_values(by=['Year'], ascending=True)[['Country','Year','Value']])\n",
        "\n",
        "\n",
        "#Obtener año mas conflictivo en general\n",
        "print()\n",
        "print()\n",
        "print(\"G.Obtener el año más conflictivo en general.\")\n",
        "registro_annos = df[\"Year\"]\n",
        "anno_conflictivo = registro_annos.mode()\n",
        "print (anno_conflictivo)\n"
      ],
      "metadata": {
        "id": "50nz5ZplcauU"
      },
      "execution_count": null,
      "outputs": []
    }
  ]
}