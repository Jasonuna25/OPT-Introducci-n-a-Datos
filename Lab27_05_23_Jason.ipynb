{
  "nbformat": 4,
  "nbformat_minor": 0,
  "metadata": {
    "colab": {
      "provenance": [],
      "authorship_tag": "ABX9TyNAdNktwDsBdSXZn6oISshc",
      "include_colab_link": true
    },
    "kernelspec": {
      "name": "python3",
      "display_name": "Python 3"
    },
    "language_info": {
      "name": "python"
    }
  },
  "cells": [
    {
      "cell_type": "markdown",
      "metadata": {
        "id": "view-in-github",
        "colab_type": "text"
      },
      "source": [
        "<a href=\"https://colab.research.google.com/github/Jasonuna25/OPT-Introducci-n-a-Datos/blob/main/Lab27_05_23_Jason.ipynb\" target=\"_parent\"><img src=\"https://colab.research.google.com/assets/colab-badge.svg\" alt=\"Open In Colab\"/></a>"
      ]
    },
    {
      "cell_type": "code",
      "execution_count": null,
      "metadata": {
        "id": "4GISEY8dfplO"
      },
      "outputs": [],
      "source": [
        "import pandas as pd\n",
        "import matplotlib.pyplot as plt\n",
        "\n",
        "df=pd.read_csv('/content/CSVInvestigation.csv')\n",
        "data=pd.DataFrame(df)\n",
        "data=data.astype({\"Value\": float})\n",
        "\n",
        "dataFiltered2018data=data.loc[(data['Year']==2018)]\n",
        "\n",
        "print(\"5 paises con mayor indice criminal\")\n",
        "print()\n",
        "print()\n",
        "dataFiltered=data.loc[(data['Series'] == \"Intentional homicide rates per 100,000\") & (data['Year']==2018)]\n",
        "print(\"A-Los 5 paises con mayor indice de homicidios inernacionales en el año 2018 son:\")\n",
        "print(dataFiltered.sort_values(by=['Value'],ascending=False)[['Country','Value']].head(5))\n",
        "\n",
        "print(\"Crimen más repetido por país en el 2018\")\n",
        "print()\n",
        "print()\n",
        "print(\"Crimen mas repetido por pais en el 2018\")\n",
        "print(dataFiltered2018data[\"Series\"].value_counts())\n",
        "\n",
        "print(\"Crimen con el porcentaje mas alto en CR en el 2005\")\n",
        "print()\n",
        "print()\n",
        "print(\"Crimen con el porcentaje mas alto en CR en el 2005:\")\n",
        "dataFilteredCR=data.loc[(data['Country'] == 'Costa Rica')&(data['Year']==2005)]\n",
        "print(dataFilteredCR.sort_values(by=['Value'], ascending=False)[['Country','Series','Value']])\n",
        "\n",
        "print(\"En el año 2010, cual es tasa de homicidios en Costa Rica, Panamá y Nicaragua\")\n",
        "print()\n",
        "print()\n",
        "print(\"En el año 2010, cual es tasa de homicidios en Costa Rica, Panamá y Nicaragua.\")\n",
        "registro_general = df.loc[((((df[\"Country\"] == \"Costa Rica\") | (df[\"Country\"]==\"Panama\") | (df[\"Country\"]==\"Nicaragua\")) & (df[\"Series\"]==\"Intentional homicide rates per 100,000\") & (df[\"Year\"]==2018)))][['Country','Value']]\n",
        "print(registro_general)\n",
        "\n"
      ]
    }
  ]
}