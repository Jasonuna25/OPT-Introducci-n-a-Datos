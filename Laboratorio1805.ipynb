{
  "nbformat": 4,
  "nbformat_minor": 0,
  "metadata": {
    "colab": {
      "provenance": [],
      "authorship_tag": "ABX9TyPpOAJJTQpoFf7HHTIVZZZ7",
      "include_colab_link": true
    },
    "kernelspec": {
      "name": "python3",
      "display_name": "Python 3"
    },
    "language_info": {
      "name": "python"
    }
  },
  "cells": [
    {
      "cell_type": "markdown",
      "metadata": {
        "id": "view-in-github",
        "colab_type": "text"
      },
      "source": [
        "<a href=\"https://colab.research.google.com/github/Jasonuna25/OPT-Introducci-n-a-Datos/blob/main/Laboratorio1805.ipynb\" target=\"_parent\"><img src=\"https://colab.research.google.com/assets/colab-badge.svg\" alt=\"Open In Colab\"/></a>"
      ]
    },
    {
      "cell_type": "code",
      "execution_count": null,
      "metadata": {
        "id": "FIwS1aWnS0G1"
      },
      "outputs": [],
      "source": [
        "import folium\n",
        "\n",
        "from folium.plugins import minimap\n",
        "Heredia = folium.Map(location=())"
      ]
    }
  ]
}