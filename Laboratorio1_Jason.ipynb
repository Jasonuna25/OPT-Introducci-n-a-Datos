{
  "nbformat": 4,
  "nbformat_minor": 0,
  "metadata": {
    "colab": {
      "provenance": [],
      "authorship_tag": "ABX9TyO+1MTVgtZjuv5tLIOJRGtO",
      "include_colab_link": true
    },
    "kernelspec": {
      "name": "python3",
      "display_name": "Python 3"
    },
    "language_info": {
      "name": "python"
    }
  },
  "cells": [
    {
      "cell_type": "markdown",
      "metadata": {
        "id": "view-in-github",
        "colab_type": "text"
      },
      "source": [
        "<a href=\"https://colab.research.google.com/github/Jasonuna25/OPT-Introducci-n-a-Datos/blob/main/Laboratorio1_Jason.ipynb\" target=\"_parent\"><img src=\"https://colab.research.google.com/assets/colab-badge.svg\" alt=\"Open In Colab\"/></a>"
      ]
    },
    {
      "cell_type": "code",
      "execution_count": null,
      "metadata": {
        "id": "qF01M3196p5w"
      },
      "outputs": [],
      "source": [
        "print"
      ]
    },
    {
      "cell_type": "code",
      "source": [
        "print(\"Ejercicio #1 Calcular distancia\")\n",
        "print(\"Ingrese la velocidad y el tiempo de la unidad movil\")\n",
        "v =float(input(\"Ingrese la velocidad:\"))\n",
        "t =float(input(\"Ingrese el tiempo:\"))\n",
        "print(\"La distancia es: \"+str(v*t))\n"
      ],
      "metadata": {
        "colab": {
          "base_uri": "https://localhost:8080/"
        },
        "id": "Xh7GZskr8veB",
        "outputId": "13973009-b0a3-4c92-8e7c-fb2b44003fb2"
      },
      "execution_count": null,
      "outputs": [
        {
          "output_type": "stream",
          "name": "stdout",
          "text": [
            "Ejercicio #1 Calcular distancia\n",
            "Ingrese la velocidad y el tiempo de la unidad movil\n",
            "Ingrese la velocidad:25\n",
            "Ingrese el tiempo:15\n",
            "La distancia es: 375.0\n"
          ]
        }
      ]
    },
    {
      "cell_type": "code",
      "source": [
        "print(\"Ejercicio #2 Promedio notas\")\n",
        "n1= float(input(\"Ingrese la nota 1:\"))\n",
        "n2= float(input(\"Ingrese la nota 2:\"))\n",
        "n3= float(input(\"Ingrese la nota 3:\"))\n",
        "print(\"El promedio de las notas:\" +str((n1+n2+n3)/3))"
      ],
      "metadata": {
        "colab": {
          "base_uri": "https://localhost:8080/"
        },
        "id": "f5Nrn9kp6xUE",
        "outputId": "e6154cb0-1c01-48d5-b2eb-3bbe6efb9ce6"
      },
      "execution_count": null,
      "outputs": [
        {
          "output_type": "stream",
          "name": "stdout",
          "text": [
            "Ejercicio #2 Promedio notas\n",
            "Ingrese la nota 1:95\n",
            "Ingrese la nota 2:92\n",
            "Ingrese la nota 3:90\n",
            "El promedio de las notas:92.33333333333333\n"
          ]
        }
      ]
    },
    {
      "cell_type": "code",
      "source": [
        "print(\"Ejercicio #3\")\n",
        "corr= int(input(\"Ingrese correctas:\"))\n",
        "inco= int(input(\"Ingrese incorrectas:\"))\n",
        "blan= int(input(\"Ingrese blanco:\"))\n",
        "print(\"El total es:\" +str(corr*3+inco*-1))\n"
      ],
      "metadata": {
        "colab": {
          "base_uri": "https://localhost:8080/"
        },
        "id": "f-V_SaiRAMOW",
        "outputId": "4c8e414c-203e-4c1d-e998-14eb66506646"
      },
      "execution_count": null,
      "outputs": [
        {
          "output_type": "stream",
          "name": "stdout",
          "text": [
            "Ejercicio #3\n",
            "Ingrese correctas:10\n",
            "Ingrese incorrectas:2\n",
            "Ingrese blanco:2\n",
            "El total es:28\n"
          ]
        }
      ]
    },
    {
      "cell_type": "code",
      "source": [
        "print(\"Ejercicio #4\")\n",
        "Ganados = int(input(\"Digite la cantidad de partidos ganados:\"))\n",
        "Perdidos = int(input(\"Digite la cantidad de partidos perdidos:\"))\n",
        "Empatados = int(input(\"Digite la cantidad de partidos Empatados:\"))\n",
        "Puntos =(Ganados * 3) + (0 * Perdidos) + (1 * Empatados)\n",
        "print(\"El puntaje total es de: \", Puntos)"
      ],
      "metadata": {
        "colab": {
          "base_uri": "https://localhost:8080/"
        },
        "id": "m4R9AXWIKpY2",
        "outputId": "db32fa40-d1c2-4b1c-e99f-880dd38a9513"
      },
      "execution_count": null,
      "outputs": [
        {
          "output_type": "stream",
          "name": "stdout",
          "text": [
            "Ejercicio #4\n",
            "Digite la cantidad de partidos ganados:7\n",
            "Digite la cantidad de partidos perdidos:2\n",
            "Digite la cantidad de partidos Empatados:1\n",
            "El puntaje total es de:  22\n"
          ]
        }
      ]
    },
    {
      "cell_type": "code",
      "source": [
        "print(\"Ejercicio #5\")\n",
        "GB = float(input(\"Digite la cantidad de GigaBytes:\"))\n",
        "MG = 1024 * 24\n",
        "MicroDiscos = MG / 1,44\n",
        "print(\"El numero de microdiscos es de: \", str(MicroDiscos))\n"
      ],
      "metadata": {
        "colab": {
          "base_uri": "https://localhost:8080/"
        },
        "id": "MwtwaP67MD_n",
        "outputId": "babddd7c-58c3-415c-ffdc-4e974ed3305d"
      },
      "execution_count": null,
      "outputs": [
        {
          "output_type": "stream",
          "name": "stdout",
          "text": [
            "Ejercicio #5\n",
            "Digite la cantidad de GigaBytes:14\n",
            "El numero de microdiscos es de:  (24576.0, 44)\n"
          ]
        }
      ]
    },
    {
      "cell_type": "code",
      "source": [],
      "metadata": {
        "id": "dXUuTleDOMhh"
      },
      "execution_count": null,
      "outputs": []
    }
  ]
}