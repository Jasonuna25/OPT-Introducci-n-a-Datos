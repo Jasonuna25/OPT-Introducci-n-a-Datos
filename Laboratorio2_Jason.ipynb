{
  "nbformat": 4,
  "nbformat_minor": 0,
  "metadata": {
    "colab": {
      "provenance": [],
      "authorship_tag": "ABX9TyPT6gQdyGYi1lUu+2HnfnZD",
      "include_colab_link": true
    },
    "kernelspec": {
      "name": "python3",
      "display_name": "Python 3"
    },
    "language_info": {
      "name": "python"
    }
  },
  "cells": [
    {
      "cell_type": "markdown",
      "metadata": {
        "id": "view-in-github",
        "colab_type": "text"
      },
      "source": [
        "<a href=\"https://colab.research.google.com/github/Jasonuna25/OPT-Introducci-n-a-Datos/blob/main/Laboratorio2_Jason.ipynb\" target=\"_parent\"><img src=\"https://colab.research.google.com/assets/colab-badge.svg\" alt=\"Open In Colab\"/></a>"
      ]
    },
    {
      "cell_type": "code",
      "source": [
        "#Decoración: Nombre del algoritmo\n",
        "print(\"-----------------------------------------------\")\n",
        "print(\"Ejemplo2:IMPRIMIR EL MENOR DE DOS NUMEROS.\")\n",
        "print(\"-----------------------------------------------\")\n",
        "#ENTRADAS\n",
        "primt(\"Ingrese 2 números: \")\n",
        "x = int(imput(\"Primer numero: \"))\n",
        "x = int(imput(\"Segundo numero: \"))\n",
        "print(\"\\nSALIDA: \")\n",
        "print(\"-----------------------------------------------\")\n",
        "#NOTA: No olvidarse de las identación.\n",
        "if x > y:\n",
        "  #Esto esta dentro del IF\n",
        "    print(\"El menor es:\", y)\n",
        "else\n",
        "     #Esto esta dentro del ELSE\n",
        "     print(\"El menor es:\", x)\n"
      ],
      "metadata": {
        "id": "xzNHWvbC3JnX"
      },
      "execution_count": null,
      "outputs": []
    },
    {
      "cell_type": "code",
      "source": [
        "switcher={1: \"Enero\", 2:\"Febrero\", 3: \"Marzo\", 4:\"Abril\",5:\"Mayo\",6:\"Junio\", 7:\"Julio\", 8:\"Agosto\", 9:\"Septiembre\", 10: \"Octubre\", 11: \"Noviembre\", 12: \"Diciembre\"}\n",
        "argument=int(input(\"Ingrese un número\"))\n",
        "nameMes=switcher.get(argument,\"Mes inválido\")\n",
        "print(nameMes)\n"
      ],
      "metadata": {
        "id": "uDHOwtbO69Wm"
      },
      "execution_count": null,
      "outputs": []
    }
  ]
}