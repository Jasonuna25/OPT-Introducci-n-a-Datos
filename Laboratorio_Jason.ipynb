{
  "nbformat": 4,
  "nbformat_minor": 0,
  "metadata": {
    "colab": {
      "provenance": [],
      "authorship_tag": "ABX9TyMoawBg+hR45JtFPmqCxOnk",
      "include_colab_link": true
    },
    "kernelspec": {
      "name": "python3",
      "display_name": "Python 3"
    },
    "language_info": {
      "name": "python"
    }
  },
  "cells": [
    {
      "cell_type": "markdown",
      "metadata": {
        "id": "view-in-github",
        "colab_type": "text"
      },
      "source": [
        "<a href=\"https://colab.research.google.com/github/Jasonuna25/OPT-Introducci-n-a-Datos/blob/main/Laboratorio_Jason.ipynb\" target=\"_parent\"><img src=\"https://colab.research.google.com/assets/colab-badge.svg\" alt=\"Open In Colab\"/></a>"
      ]
    },
    {
      "cell_type": "code",
      "execution_count": null,
      "metadata": {
        "colab": {
          "base_uri": "https://localhost:8080/"
        },
        "id": "H5PxMSn9H-6d",
        "outputId": "cea561c9-10f3-4953-f473-1ed200f18eb1"
      },
      "outputs": [
        {
          "output_type": "stream",
          "name": "stdout",
          "text": [
            "Ejercicio #1 Calcular distancia\n",
            "Ingrese la velocidad y el tiempo de la unidad movil\n",
            "Ingrese la velocidad:11\n",
            "Ingrese el tiempo: 25\n",
            "La distancia es: 275.0\n"
          ]
        }
      ],
      "source": [
        "print(\"Ejercicio #1 Calcular distancia\")\n",
        "print(\"Ingrese la velocidad y el tiempo de la unidad movil\")\n",
        "v = float(input(\"Ingrese la velocidad:\"))\n",
        "t = float(input(\"Ingrese el tiempo: \"))\n",
        "print(\"La distancia es: \"+str(v*t))"
      ]
    },
    {
      "cell_type": "code",
      "source": [
        "print(\"Ejercicio #2 Promedio notas\")\n",
        "nota1 =float(input(\"Ingrese la nota 1:\"))\n",
        "nota2 =int(input(\"Ingrese la nota 2:\"))\n",
        "nota3 =float(input(\"ingrese la nota 3:\"))\n",
        "\n",
        "print(\"El promedio de la nota es:\"+str((nota1+nota2+nota3)/3))\n"
      ],
      "metadata": {
        "colab": {
          "base_uri": "https://localhost:8080/"
        },
        "id": "sGW8jkKgKG1n",
        "outputId": "069ffefc-701e-4f29-b186-48eb74b5da4c"
      },
      "execution_count": null,
      "outputs": [
        {
          "output_type": "stream",
          "name": "stdout",
          "text": [
            "Ejeercicio #2 Promedio notas\n",
            "Ingrese la nota 1:95\n",
            "Ingrese la nota 2:95\n",
            "ingrese la nota 3:90\n",
            "El promedio de la nota es:93.33333333333333\n"
          ]
        }
      ]
    },
    {
      "cell_type": "code",
      "source": [
        "print(\"Cantidad de respuestas\")\n",
        "numero "
      ],
      "metadata": {
        "id": "oRiJyqDILpmm"
      },
      "execution_count": null,
      "outputs": []
    }
  ]
}